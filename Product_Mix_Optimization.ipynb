{
  "nbformat": 4,
  "nbformat_minor": 0,
  "metadata": {
    "colab": {
      "provenance": []
    },
    "kernelspec": {
      "name": "python3",
      "display_name": "Python 3"
    },
    "language_info": {
      "name": "python"
    }
  },
  "cells": [
    {
      "cell_type": "code",
      "execution_count": 1,
      "metadata": {
        "colab": {
          "base_uri": "https://localhost:8080/",
          "height": 0
        },
        "id": "bz8s3yUQqVr9",
        "outputId": "ddb87939-1175-4257-9f1c-00ff9b1aa08a"
      },
      "outputs": [
        {
          "output_type": "stream",
          "name": "stdout",
          "text": [
            "Collecting pulp\n",
            "  Downloading pulp-3.2.1-py3-none-any.whl.metadata (6.9 kB)\n",
            "Downloading pulp-3.2.1-py3-none-any.whl (16.4 MB)\n",
            "\u001b[2K   \u001b[90m━━━━━━━━━━━━━━━━━━━━━━━━━━━━━━━━━━━━━━━━\u001b[0m \u001b[32m16.4/16.4 MB\u001b[0m \u001b[31m109.8 MB/s\u001b[0m eta \u001b[36m0:00:00\u001b[0m\n",
            "\u001b[?25hInstalling collected packages: pulp\n",
            "Successfully installed pulp-3.2.1\n",
            "Status: Optimal\n",
            "Optimal units of Product A to produce: 0.0\n",
            "Optimal units of Product B to produce: 60.0\n",
            "Maximum Profit: $ 1800.0\n"
          ]
        }
      ],
      "source": [
        "# STEP 1: Install PuLP\n",
        "!pip install pulp\n",
        "\n",
        "# STEP 2: Import the library\n",
        "import pulp\n",
        "\n",
        "# STEP 3: Define the Linear Programming problem (Maximize Profit)\n",
        "model = pulp.LpProblem(\"Maximize_Profit\", pulp.LpMaximize)\n",
        "\n",
        "# STEP 4: Define Decision Variables\n",
        "# Let x = units of Product A, y = units of Product B\n",
        "x = pulp.LpVariable('Product_A', lowBound=0, cat='Continuous')\n",
        "y = pulp.LpVariable('Product_B', lowBound=0, cat='Continuous')\n",
        "\n",
        "# STEP 5: Define Objective Function\n",
        "# Profit: Product A = $20/unit, Product B = $30/unit\n",
        "model += 20 * x + 30 * y, \"Total_Profit\"\n",
        "\n",
        "# STEP 6: Add Constraints\n",
        "# Constraint 1: Labor hours → 2x + 1y <= 100\n",
        "model += 2 * x + 1 * y <= 100, \"Labor\"\n",
        "\n",
        "# Constraint 2: Materials → 3x + 2y <= 120\n",
        "model += 3 * x + 2 * y <= 120, \"Material\"\n",
        "\n",
        "# STEP 7: Solve the problem\n",
        "model.solve()\n",
        "\n",
        "# STEP 8: Output the results\n",
        "print(\"Status:\", pulp.LpStatus[model.status])\n",
        "print(\"Optimal units of Product A to produce:\", x.varValue)\n",
        "print(\"Optimal units of Product B to produce:\", y.varValue)\n",
        "print(\"Maximum Profit: $\", pulp.value(model.objective))\n"
      ]
    }
  ]
}